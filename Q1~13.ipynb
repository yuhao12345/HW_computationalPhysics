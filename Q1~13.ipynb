{
 "cells": [
  {
   "cell_type": "markdown",
   "metadata": {},
   "source": [
    "# Exercise1"
   ]
  },
  {
   "cell_type": "markdown",
   "metadata": {},
   "source": [
    "# 1"
   ]
  },
  {
   "cell_type": "code",
   "execution_count": null,
   "metadata": {
    "collapsed": false
   },
   "outputs": [],
   "source": [
    "import numpy as np\n",
    "h=float(input(\"enter the height of tower:\"))\n",
    "g=9.8\n",
    "t=np.sqrt(2*h/g)\n",
    "print(t,\"s\")"
   ]
  },
  {
   "cell_type": "markdown",
   "metadata": {},
   "source": [
    "# 2"
   ]
  },
  {
   "cell_type": "code",
   "execution_count": null,
   "metadata": {
    "collapsed": false
   },
   "outputs": [],
   "source": [
    "import numpy as np\n",
    "t=float(input(\"enter T:\"))\n",
    "g=6.67e-11\n",
    "m=5.97e24\n",
    "r=6371\n",
    "h=(g*m*t**2/4/np.pi**2)**(1/3)-r\n",
    "print(h,\"m\")"
   ]
  },
  {
   "cell_type": "markdown",
   "metadata": {},
   "source": [
    "# 3"
   ]
  },
  {
   "cell_type": "code",
   "execution_count": null,
   "metadata": {
    "collapsed": false
   },
   "outputs": [],
   "source": [
    "import math\n",
    "x=float(input(\"enter x: \"))\n",
    "y=float(input(\"enter y: \"))\n",
    "r=math.sqrt(x**2+y**2)\n",
    "theta=math.asin(y/r)\n",
    "if x<0:\n",
    "    theta=math.pi-theta\n",
    "theta=theta/math.pi*180\n",
    "print(\"r=\",r,\"theta in degree=\",theta)"
   ]
  },
  {
   "cell_type": "markdown",
   "metadata": {},
   "source": [
    "# 4"
   ]
  },
  {
   "cell_type": "code",
   "execution_count": null,
   "metadata": {
    "collapsed": false
   },
   "outputs": [],
   "source": [
    "import numpy as np\n",
    "v=float(input(\"enter the speed as a fraction of c: \"))\n",
    "x=float(input(\"enter the distance: \"))\n",
    "t1=x/v\n",
    "t2=x/v/np.sqrt(1-v**2)\n",
    "print(\"rest frame: \",t1,\"year\", \"passenger: \",t2,\"year\")"
   ]
  },
  {
   "cell_type": "markdown",
   "metadata": {},
   "source": [
    "# 5"
   ]
  },
  {
   "cell_type": "code",
   "execution_count": null,
   "metadata": {
    "collapsed": false
   },
   "outputs": [],
   "source": [
    "m=9.11e-31\n",
    "e=10\n",
    "v=9\n",
    "k1=np.sqrt(2*m*e)\n",
    "k2=np.sqrt(2*m*(e-v))\n",
    "t=4*k1*k2/(k1+k2)**2\n",
    "r=((k1-k2)/(k1+k2))**2\n",
    "print(\"transmission=\",t, \"reflection=\",r)"
   ]
  },
  {
   "cell_type": "markdown",
   "metadata": {},
   "source": [
    "# 6"
   ]
  },
  {
   "cell_type": "code",
   "execution_count": null,
   "metadata": {
    "collapsed": false
   },
   "outputs": [],
   "source": [
    "l1=float(input(\"enter the distance to sun at perihelion: \"))\n",
    "v1=float(input(\"enter the velocity at perihelion: \"))\n",
    "g=6.6738e-11\n",
    "m=1.9891e30\n",
    "v2=0.5*(2*g*m/v1/l1-np.sqrt((2*g*m/v1/l1)**2+4*(v1**2-2*g*m/l1)))\n",
    "l2=l1*v1/v2\n",
    "a=(l1+l2)/2\n",
    "b=np.sqrt(l1*l2)\n",
    "T=2*np.pi*a*b/l1/v1\n",
    "e=(l2-l1)/(l2+l1)\n",
    "print(\"l2=\",l2 ,\"v2=\",v2 ,\"T=\",T ,\"e=\",e)"
   ]
  },
  {
   "cell_type": "markdown",
   "metadata": {},
   "source": [
    "# 10"
   ]
  },
  {
   "cell_type": "code",
   "execution_count": null,
   "metadata": {
    "collapsed": false
   },
   "outputs": [],
   "source": [
    "def binding(a,z):\n",
    "    a1=15.8\n",
    "    a2=18.3\n",
    "    a3=0.714\n",
    "    a4=23.2\n",
    "    if a%2==1:\n",
    "        a5=0\n",
    "    elif a%2==0 and z%2==0:\n",
    "        a5=12\n",
    "    else:\n",
    "        a5=-12\n",
    "    b=a1*a-a2*a**(2/3)-a3*z**2/a**(1/3)-a4*(a-2*z)**2/a+a5/a**0.5\n",
    "#print(\"B=\",b, \"B/A=\",b/a)\n",
    "    return b/a\n",
    "\n",
    "\n",
    "binding(58,28)\n"
   ]
  },
  {
   "cell_type": "code",
   "execution_count": null,
   "metadata": {
    "collapsed": false
   },
   "outputs": [],
   "source": [
    "z=int(input(\"enter Z: \"))\n",
    "ba_largest=a0=0\n",
    "for a in range(z,3*z+1):\n",
    "    ba=binding(a,z)\n",
    "    #print(a,z,ba)\n",
    "    if ba_largest<ba:\n",
    "        ba_largest=ba\n",
    "        a0=a\n",
    "print(\"A=\",a0, \"B/A=\",ba_largest)\n",
    "    \n",
    "    "
   ]
  },
  {
   "cell_type": "code",
   "execution_count": null,
   "metadata": {
    "collapsed": false
   },
   "outputs": [],
   "source": [
    "z0=ba_most=0\n",
    "for z in range(1,101):   \n",
    "    ba_largest=a0=0\n",
    "    for a in range(z,3*z+1):\n",
    "        ba=binding(a,z)  \n",
    "        if ba_largest<ba:\n",
    "            ba_largest=ba\n",
    "            a0=a\n",
    "    print(\"Z=\",z, \"A=\",a0,ba_largest)\n",
    "    if ba_most<ba_largest:\n",
    "        ba_most=ba_largest\n",
    "        z0=z\n",
    "print(\"Z=\",z0)\n",
    "\n",
    "    "
   ]
  },
  {
   "cell_type": "markdown",
   "metadata": {},
   "source": [
    "# 11"
   ]
  },
  {
   "cell_type": "code",
   "execution_count": null,
   "metadata": {
    "collapsed": true
   },
   "outputs": [],
   "source": [
    "def factorial(n):\n",
    "    k=1\n",
    "    for i in range(1,n+1):\n",
    "        k*=i\n",
    "    return k\n",
    "def binomial(n,k):\n",
    "    c=factorial(n)/factorial(k)/factorial(n-k)\n",
    "    return int(c)"
   ]
  },
  {
   "cell_type": "code",
   "execution_count": null,
   "metadata": {
    "collapsed": false
   },
   "outputs": [],
   "source": [
    "binomial(10,0)"
   ]
  },
  {
   "cell_type": "code",
   "execution_count": null,
   "metadata": {
    "collapsed": true
   },
   "outputs": [],
   "source": [
    "def pascal(l):\n",
    "    for i in range(1,l+1):\n",
    "        for j in range(i+1):\n",
    "            print(binomial(i,j),\" \" ,end=\"\")\n",
    "        print('\\n')"
   ]
  },
  {
   "cell_type": "code",
   "execution_count": null,
   "metadata": {
    "collapsed": false
   },
   "outputs": [],
   "source": [
    "pascal(20)"
   ]
  },
  {
   "cell_type": "code",
   "execution_count": null,
   "metadata": {
    "collapsed": true
   },
   "outputs": [],
   "source": [
    "def tosscoin(n,k):\n",
    "    p=binomial(n,k)/2**n\n",
    "    return p"
   ]
  },
  {
   "cell_type": "code",
   "execution_count": null,
   "metadata": {
    "collapsed": false
   },
   "outputs": [],
   "source": [
    "tosscoin(100,60)"
   ]
  },
  {
   "cell_type": "code",
   "execution_count": null,
   "metadata": {
    "collapsed": false
   },
   "outputs": [],
   "source": [
    "p_sum=0\n",
    "for i in range(60,101):\n",
    "    p_sum+=tosscoin(100,i)\n",
    "print(p_sum)"
   ]
  },
  {
   "cell_type": "markdown",
   "metadata": {},
   "source": [
    "# 12"
   ]
  },
  {
   "cell_type": "code",
   "execution_count": null,
   "metadata": {
    "collapsed": false
   },
   "outputs": [],
   "source": [
    "import numpy as np\n",
    "def prime(n):\n",
    "    a=True\n",
    "    if n>3:\n",
    "        for i in range(2,1+int(np.sqrt(n))):\n",
    "            if n%i==0:                \n",
    "                a=False\n",
    "                break\n",
    "    return a                "
   ]
  },
  {
   "cell_type": "code",
   "execution_count": null,
   "metadata": {
    "collapsed": false
   },
   "outputs": [],
   "source": [
    "prime_list=[]\n",
    "for n in range(2,1000):\n",
    "    if prime(n):\n",
    "        prime_list.append(n)\n",
    "print(prime_list)"
   ]
  },
  {
   "cell_type": "markdown",
   "metadata": {},
   "source": [
    "# 13"
   ]
  },
  {
   "cell_type": "code",
   "execution_count": null,
   "metadata": {
    "collapsed": true
   },
   "outputs": [],
   "source": [
    "def catalan(n):\n",
    "    if n==0:\n",
    "        return 1\n",
    "    else:\n",
    "        return (4*n-2)/(n+1)*catalan(n-1)"
   ]
  },
  {
   "cell_type": "code",
   "execution_count": null,
   "metadata": {
    "collapsed": false
   },
   "outputs": [],
   "source": [
    "print(catalan(100))"
   ]
  },
  {
   "cell_type": "code",
   "execution_count": null,
   "metadata": {
    "collapsed": true
   },
   "outputs": [],
   "source": [
    "def g(m,n):\n",
    "    if n==0:\n",
    "        return m\n",
    "    else:\n",
    "        return g(n,int(m%n))"
   ]
  },
  {
   "cell_type": "code",
   "execution_count": null,
   "metadata": {
    "collapsed": false
   },
   "outputs": [],
   "source": [
    "g(108,192)"
   ]
  },
  {
   "cell_type": "code",
   "execution_count": null,
   "metadata": {
    "collapsed": true
   },
   "outputs": [],
   "source": []
  }
 ],
 "metadata": {
  "kernelspec": {
   "display_name": "Python 3",
   "language": "python",
   "name": "python3"
  },
  "language_info": {
   "codemirror_mode": {
    "name": "ipython",
    "version": 3
   },
   "file_extension": ".py",
   "mimetype": "text/x-python",
   "name": "python",
   "nbconvert_exporter": "python",
   "pygments_lexer": "ipython3",
   "version": "3.6.0"
  }
 },
 "nbformat": 4,
 "nbformat_minor": 2
}
